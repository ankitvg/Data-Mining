{
 "cells": [
  {
   "cell_type": "markdown",
   "metadata": {
    "collapsed": false
   },
   "source": [
    "# Dow Jones"
   ]
  },
  {
   "cell_type": "markdown",
   "metadata": {},
   "source": [
    "In this Ipython notebook, Based on the stock prices available for the past weeks, we try to predict the price we can expect in the next week. Specifically, we predict the percent change in stock price for the next week based on given attributes.\n",
    "\n",
    "The dataset is available here:https://archive.ics.uci.edu/ml/machine-learning-databases/00312/"
   ]
  },
  {
   "cell_type": "markdown",
   "metadata": {},
   "source": [
    "The below code cell includes importing the necessary modules for the functionality of the code and writes some basic helper functions required for further calculations"
   ]
  },
  {
   "cell_type": "code",
   "execution_count": null,
   "metadata": {
    "collapsed": true
   },
   "outputs": [],
   "source": [
    "## Preliminaries\n",
    "\n",
    "#Show plots in the notebook\n",
    "%matplotlib inline\n",
    "\n",
    "from sklearn import datasets, preprocessing, cross_validation, feature_extraction\n",
    "from sklearn import linear_model, svm, metrics, ensemble, neighbors, mixture, cluster\n",
    "import numpy as np\n",
    "import pandas as pd\n",
    "import matplotlib.pyplot as plt\n",
    "try:\n",
    "    import urllib.request as urllib2\n",
    "except ImportError:\n",
    "    import urllib2\n",
    "import random\n",
    "\n",
    "from scipy.spatial import distance\n",
    "import sys    \n",
    "from scipy.spatial import distance\n",
    "print(__doc__)\n",
    "import numpy as np\n",
    "import matplotlib.pyplot as plt\n",
    "from sklearn import cluster, datasets\n",
    "from sklearn.neighbors import kneighbors_graph\n",
    "from sklearn.preprocessing import StandardScaler\n",
    "import time\n",
    "\n",
    "# Helper functions\n",
    "def folds_to_split(data,targets,train,test):\n",
    "    data_tr = pd.DataFrame(data).iloc[train]\n",
    "    data_te = pd.DataFrame(data).iloc[test]\n",
    "    labels_tr = pd.DataFrame(targets).iloc[train]\n",
    "    labels_te = pd.DataFrame(targets).iloc[test]\n",
    "    return [data_tr, data_te, labels_tr, labels_te]\n",
    "\n",
    "def computeLabelPercentage(data, axis=0):\n",
    "    return data.groupby(by=axis).size().apply(lambda x: x/data.count())"
   ]
  },
  {
   "cell_type": "markdown",
   "metadata": {},
   "source": [
    "Lets start with loading the data and understanding the dataset.\n",
    "The Dow Jones data set consists of weekly stock price changes for 30 different companies listed on the Dow Jones index of USA. We have 25 weeks of data available for 30 companies. Each row in the data set represents weekly data for a certain company.\n",
    "The data set also has 16 attributes. Determining the significant attributes which can be used for further calculation is an important step"
   ]
  },
  {
   "cell_type": "code",
   "execution_count": 93,
   "metadata": {
    "collapsed": false
   },
   "outputs": [
    {
     "name": "stdout",
     "output_type": "stream",
     "text": [
      "(720, 16)\n"
     ]
    }
   ],
   "source": [
    "#linear regression: predict the value of percent change next week based on that particular company's classifier only\n",
    "#classificaion: generate a hyperplane using SVm to classify into profit or loss making shares\n",
    "#clustering: \n",
    "\n",
    "#load data from the file\n",
    "dow_df = pd.read_csv(\"dow_jones_index/dow_jones_index.data\")\n",
    "\n",
    "dow_df = dow_df.dropna()\n",
    "\n",
    "print (dow_df.shape)\n",
    "\n",
    "#dow_labels=dow_df.iloc[:,-3]\n",
    "#dow_labels[dow_labels>0] = 1\n",
    "#dow_labels[dow_labels<0] = 0\n",
    "# 30 rows dropped"
   ]
  },
  {
   "cell_type": "code",
   "execution_count": null,
   "metadata": {
    "collapsed": true
   },
   "outputs": [],
   "source": [
    "my_cols = ['quarter', 'stock', 'date', 'percent_change_price', 'percent_change_volume_over_last_wk', 'percent_return_next_dividend', 'percent_change_next_weeks_price']\n",
    "my_dow_df = dow_df[my_cols]\n",
    "my_dow_df = my_dow_df.dropna()\n",
    "my_dow_df.index = pd.DatetimeIndex(my_dow_df['date'])\n",
    "my_dow_df = my_dow_df.drop('date', axis=1)"
   ]
  },
  {
   "cell_type": "code",
   "execution_count": 89,
   "metadata": {
    "collapsed": false
   },
   "outputs": [],
   "source": [
    "dow_grouped = my_dow_df.groupby('stock')\n",
    "stock_names = list(dow_grouped.groups.keys())\n",
    "total_groups = dow_grouped.ngroups"
   ]
  },
  {
   "cell_type": "code",
   "execution_count": 90,
   "metadata": {
    "collapsed": false
   },
   "outputs": [
    {
     "name": "stdout",
     "output_type": "stream",
     "text": [
      "30\n",
      "Index(['quarter', 'stock', 'percent_change_price',\n",
      "       'percent_change_volume_over_last_wk', 'percent_return_next_dividend',\n",
      "       'percent_change_next_weeks_price'],\n",
      "      dtype='object')\n",
      "(24, 4)\n"
     ]
    }
   ],
   "source": [
    "print (total_groups)\n",
    "print(my_dow_df.columns)\n",
    "temp = pd.DataFrame(my_dow_df.groupby('stock').get_group(stock_names[0]))    \n",
    "temp = temp.drop(temp.columns[[0, 1]], axis=1)\n",
    "print(temp.shape)"
   ]
  },
  {
   "cell_type": "code",
   "execution_count": 77,
   "metadata": {
    "collapsed": false
   },
   "outputs": [
    {
     "name": "stdout",
     "output_type": "stream",
     "text": [
      "Total time taken to extract all the features:  5  s\n",
      "\n",
      "(30, 5)\n"
     ]
    }
   ],
   "source": [
    "x=time.time()\n",
    "filename=[]\n",
    "NewDF2= pd.DataFrame()\n",
    "company_no = 0\n",
    "ind = 0\n",
    "\n",
    "#class loop, k = class\n",
    "while company_no < total_groups:\n",
    "    companyName = stock_names[company_no]\n",
    "    NewDF2.loc[ind, 'stock'] = companyName\n",
    "    temp = pd.DataFrame(dow_grouped.get_group(companyName))\n",
    "    temp = temp.drop(temp.columns[[0, 1]], axis=1)\n",
    "    throw, totalFeatures = temp.shape\n",
    "    for col in range (0,totalFeatures,1):\n",
    "        temp2 = pd.DataFrame(temp.iloc[:-1,col])\n",
    "        arma=sm.tsa.ARMA(temp2.values, (1,0)).fit()\n",
    "        NewDF2.loc[ind, col] = arma.params[1]\n",
    "    ind += 1\n",
    "    company_no += 1\n",
    "\n",
    "print(\"Total time taken to extract all the features: \", int(time.time() - x), \" s\\n\")\n",
    "print (NewDF2.shape)"
   ]
  },
  {
   "cell_type": "code",
   "execution_count": 78,
   "metadata": {
    "collapsed": false
   },
   "outputs": [
    {
     "name": "stdout",
     "output_type": "stream",
     "text": [
      "Total time taken to extract all the features:  6  s\n",
      "\n",
      "(30, 5)\n"
     ]
    }
   ],
   "source": [
    "import time\n",
    "x=time.time()\n",
    "filename=[]\n",
    "NewDFtest= pd.DataFrame()\n",
    "company_no = 0\n",
    "ind = 0\n",
    "\n",
    "#class loop, k = class\n",
    "while company_no < total_groups:\n",
    "    companyName = stock_names[company_no]\n",
    "    NewDFtest.loc[ind, 'stock'] = companyName\n",
    "    temp = pd.DataFrame(dow_grouped.get_group(companyName))\n",
    "    temp = temp.drop(temp.columns[[0, 1]], axis=1)\n",
    "    throw, totalFeatures = temp.shape\n",
    "    for col in range (0,totalFeatures,1):\n",
    "        temp2 = pd.DataFrame(temp.iloc[:,col])\n",
    "        arma=sm.tsa.ARMA(temp2.values, (1,0)).fit()\n",
    "        NewDFtest.loc[ind, col] = arma.params[1]\n",
    "    ind += 1\n",
    "    company_no += 1\n",
    "\n",
    "print(\"Total time taken to extract all the features: \", int(time.time() - x), \" s\\n\")\n",
    "print (NewDFtest.shape)"
   ]
  },
  {
   "cell_type": "code",
   "execution_count": 80,
   "metadata": {
    "collapsed": true
   },
   "outputs": [],
   "source": [
    "train_data = NewDF2.iloc[:,1:3]\n",
    "train_label = NewDF2.iloc[:,4]\n",
    "test_data = NewDFtest.iloc[:,1:3]\n",
    "test_label = NewDFtest.iloc[:,4]"
   ]
  },
  {
   "cell_type": "code",
   "execution_count": 82,
   "metadata": {
    "collapsed": false
   },
   "outputs": [
    {
     "name": "stdout",
     "output_type": "stream",
     "text": [
      "R^2 metric = 0.784 \t\t MSE = 0.0 \n",
      "        R^2       MSE\n",
      "0  0.784088  0.008742\n",
      "R^2    0.784088\n",
      "MSE    0.008742\n",
      "dtype: float64\n"
     ]
    }
   ],
   "source": [
    "fold_results = pd.DataFrame()\n",
    "foldnum = 0\n",
    "\n",
    "lr = linear_model.LinearRegression()\n",
    "lr.fit(train_data, train_label)\n",
    "# We could print out our results\n",
    "acc = lr.score(test_data, test_label)\n",
    "mo = metrics.mean_squared_error(test_label, lr.predict(test_data))\n",
    "print (\"R^2 metric = %03.3f \\t\\t MSE = %03.1f \" % (acc, mo))\n",
    "\n",
    "# But a nicer way to store them is in a DataFrame\n",
    "fold_results.loc[foldnum, 'R^2'] = acc\n",
    "fold_results.loc[foldnum, 'MSE'] = mo\n",
    "    \n",
    "#Now let's look at the results:\n",
    "print (fold_results)\n",
    "#And compute the mean error across folds:\n",
    "print (fold_results.mean())"
   ]
  },
  {
   "cell_type": "code",
   "execution_count": 95,
   "metadata": {
    "collapsed": true
   },
   "outputs": [],
   "source": [
    "my_cols = ['quarter', 'stock', 'date', 'percent_change_price', 'percent_change_volume_over_last_wk', 'percent_return_next_dividend', 'percent_change_next_weeks_price']\n",
    "my_dow_df = dow_df[my_cols]\n",
    "my_dow_df = my_dow_df.dropna()"
   ]
  },
  {
   "cell_type": "code",
   "execution_count": 100,
   "metadata": {
    "collapsed": false
   },
   "outputs": [
    {
     "name": "stdout",
     "output_type": "stream",
     "text": [
      "2011-01-16   -2.470660\n",
      "2011-01-23    1.638310\n",
      "2011-01-30    5.933250\n",
      "2011-02-06    0.230814\n",
      "2011-02-13   -0.632547\n",
      "2011-02-20   -1.766780\n",
      "2011-02-27   -1.368230\n",
      "2011-03-06   -3.317250\n",
      "2011-03-13    1.003130\n",
      "2011-03-20    4.334550\n",
      "2011-03-27    1.984820\n",
      "2011-04-03    2.870260\n",
      "2011-04-10   -8.527130\n",
      "2011-04-17    3.728610\n",
      "2011-04-24    0.354191\n",
      "2011-05-01   -0.694847\n",
      "2011-05-08   -0.349650\n",
      "2011-05-15   -4.352940\n",
      "2011-05-22    3.258150\n",
      "2011-05-29   -4.841600\n",
      "2011-06-05   -4.020100\n",
      "2011-06-12   -3.727930\n",
      "2011-06-19    3.817310\n",
      "2011-06-26    7.161630\n",
      "Freq: W-SUN, Name: percent_change_next_weeks_price, dtype: float64\n"
     ]
    }
   ],
   "source": [
    "print(trial2)"
   ]
  },
  {
   "cell_type": "code",
   "execution_count": 110,
   "metadata": {
    "collapsed": false
   },
   "outputs": [
    {
     "name": "stderr",
     "output_type": "stream",
     "text": [
      "/home/ankit/anaconda3/lib/python3.5/site-packages/statsmodels/base/data.py:503: FutureWarning: TimeSeries is deprecated. Please use Series\n",
      "  return TimeSeries(result, index=self.predict_dates)\n"
     ]
    },
    {
     "data": {
      "text/plain": [
       "<matplotlib.axes._subplots.AxesSubplot at 0x7f1f12687ba8>"
      ]
     },
     "execution_count": 110,
     "metadata": {},
     "output_type": "execute_result"
    },
    {
     "data": {
      "image/png": "[encoded data removed]",
      "text/plain": [
       "<matplotlib.figure.Figure at 0x7f1f131e9f98>"
      ]
     },
     "metadata": {},
     "output_type": "display_data"
    }
   ],
   "source": [
    "import statsmodels.api as sm\n",
    "\n",
    "trial = my_dow_df.groupby('stock').get_group('AA')\n",
    "trial2 = trial['percent_change_next_weeks_price']\n",
    "trial2.index = pd.DatetimeIndex(trial['date'])  \n",
    "trial2 = trial2.resample('W',how=\"mean\")  \n",
    "arma_mod20 = sm.tsa.ARMA(trial2, (4,1)).fit()\n",
    "\n",
    "predicti = arma_mod20.predict('2011-04-03', '2011-06-26', dynamic=True)\n",
    "\n",
    "trial2.plot()\n",
    "predicti.plot()"
   ]
  },
  {
   "cell_type": "code",
   "execution_count": 59,
   "metadata": {
    "collapsed": false
   },
   "outputs": [
    {
     "data": {
      "image/png": "[encoded data removed]",
      "text/plain": [
       "<matplotlib.figure.Figure at 0x7f3ec3c1a550>"
      ]
     },
     "metadata": {},
     "output_type": "display_data"
    }
   ],
   "source": [
    "fig = plt.figure(figsize=(12,8))\n",
    "ax1 = fig.add_subplot(211)\n",
    "fig = sm.graphics.tsa.plot_acf(trial2.values.squeeze(), lags=20, ax=ax1)\n",
    "ax2 = fig.add_subplot(212)\n",
    "fig = sm.graphics.tsa.plot_pacf(trial2, lags=20, ax=ax2)"
   ]
  },
  {
   "cell_type": "code",
   "execution_count": 94,
   "metadata": {
    "collapsed": false
   },
   "outputs": [
    {
     "data": {
      "text/plain": [
       "<matplotlib.axes._subplots.AxesSubplot at 0x7f3ebdc307f0>"
      ]
     },
     "execution_count": 94,
     "metadata": {},
     "output_type": "execute_result"
    },
    {
     "data": {
      "image/png": "[encoded data removed]",
      "text/plain": [
       "<matplotlib.figure.Figure at 0x7f3ebdc344e0>"
      ]
     },
     "metadata": {},
     "output_type": "display_data"
    }
   ],
   "source": [
    "trial2.plot()\n",
    "predicti.plot()"
   ]
  },
  {
   "cell_type": "code",
   "execution_count": 88,
   "metadata": {
    "collapsed": true
   },
   "outputs": [],
   "source": [
    "def mean_forecast_err(y, yhat):\n",
    "    return y.sub(yhat).mean()"
   ]
  },
  {
   "cell_type": "code",
   "execution_count": 95,
   "metadata": {
    "collapsed": false
   },
   "outputs": [
    {
     "name": "stdout",
     "output_type": "stream",
     "text": [
      "2011-05-01   -0.694847\n",
      "2011-05-08   -0.349650\n",
      "2011-05-15   -4.352940\n",
      "2011-05-22    3.258150\n",
      "2011-05-29   -4.841600\n",
      "2011-06-05   -4.020100\n",
      "2011-06-12   -3.727930\n",
      "2011-06-19    3.817310\n",
      "2011-06-26    7.161630\n",
      "Freq: W-SUN, Name: percent_change_next_weeks_price, dtype: float64\n"
     ]
    },
    {
     "data": {
      "text/plain": [
       "-1.719439745920842"
      ]
     },
     "execution_count": 95,
     "metadata": {},
     "output_type": "execute_result"
    }
   ],
   "source": [
    "print(trial2.iloc[15:,])\n",
    "mean_forecast_err(trial2.iloc[15:,], predicti)"
   ]
  },
  {
   "cell_type": "code",
   "execution_count": null,
   "metadata": {
    "collapsed": true
   },
   "outputs": [],
   "source": [
    "x=time.time()\n",
    "filename=[]\n",
    "NewDF2= pd.DataFrame()\n",
    "company_no = 0\n",
    "ind = 0\n",
    "\n",
    "#class loop, k = class\n",
    "while company_no < total_groups:\n",
    "    NewDF2.loc[ind, 'stock'] = stock_names[company_no]\n",
    "    temp2=pd.DataFrame()\n",
    "    trial = pd.DataFrame(my_dow_df.groupby('stock').get_group(company_no))\n",
    "    trial = trial.drop(trial.columns[[0, 1, 5]], axis=1)\n",
    "    #attribute loop, m = attribute\n",
    "    ind2=0\n",
    "    for m in range (0,23,1):\n",
    "        trial2=pd.DataFrame(trial.iloc[:,m])\n",
    "        arma=sm.tsa.ARMA(trial2.values, (1,0)).fit()\n",
    "        NewDF2.loc[ind, ind2] = arma.params[0]\n",
    "        ind2+=1\n",
    "        NewDF2.loc[ind, ind2] = arma.params[1]\n",
    "        ind2+=1\n",
    "    ind += 1\n",
    "    company_no += 1\n",
    "\n",
    "print(\"Total time taken to extract all the features: \", int(time.time() - x), \" s\\n\")\n",
    "print (NewDF2.shape)"
   ]
  },
  {
   "cell_type": "code",
   "execution_count": 122,
   "metadata": {
    "collapsed": false
   },
   "outputs": [
    {
     "name": "stdout",
     "output_type": "stream",
     "text": [
      "2011-01-14    $15.97\n",
      "2011-01-21    $15.79\n",
      "2011-01-28    $16.13\n",
      "2011-02-04    $17.14\n",
      "2011-02-11    $17.37\n",
      "2011-02-18    $17.28\n",
      "2011-02-25    $16.68\n",
      "2011-03-04    $16.58\n",
      "2011-03-11    $16.03\n",
      "2011-03-18    $16.11\n",
      "2011-03-25    $17.09\n",
      "2011-04-01    $17.47\n",
      "2011-04-08    $17.92\n",
      "2011-04-15    $16.52\n",
      "2011-04-21    $16.97\n",
      "2011-04-29    $17.00\n",
      "2011-05-06    $17.15\n",
      "2011-05-13    $17.10\n",
      "2011-05-20    $16.26\n",
      "2011-05-27    $16.48\n",
      "2011-06-03    $15.92\n",
      "2011-06-10    $15.28\n",
      "2011-06-17    $14.72\n",
      "2011-06-24    $15.23\n",
      "Name: close, dtype: object\n"
     ]
    }
   ],
   "source": [
    "import statsmodels.api as sm\n",
    "from pandas.tseries.offsets import *\n",
    "\n",
    "my_dow = pd.DataFrame(dow_df.groupby(\"stock\").get_group(\"AA\"))\n",
    "\n",
    "my_dow.index = pd.DatetimeIndex(my_dow['date'])  \n",
    "my_dow[\"close\"] = my_dow[\"close\"].replace('$', '')\n",
    "\n",
    "print(my_dow[\"close\"])"
   ]
  },
  {
   "cell_type": "code",
   "execution_count": 168,
   "metadata": {
    "collapsed": false
   },
   "outputs": [
    {
     "data": {
      "image/png": "[encoded data removed]",
      "text/plain": [
       "<matplotlib.figure.Figure at 0x7f11e4856a58>"
      ]
     },
     "metadata": {},
     "output_type": "display_data"
    }
   ],
   "source": [
    "my_dow = my_dow.resample('W',how=\"mean\")  \n",
    "\n",
    "#print(my_dow.columns)\n",
    "#print(type(my_dow))\n",
    "#print(my_dow.shape)\n",
    "#print(my_dow.describe())\n",
    "\n",
    "#my_dow.plot(figsize=(10,10))\n",
    "res = sm.tsa.seasonal_decompose(my_dow['percent_change_next_weeks_price'].values, freq=3)\n",
    "\n",
    "resi = res.plot()"
   ]
  },
  {
   "cell_type": "markdown",
   "metadata": {},
   "source": [
    "As it is time series relalted data we can see the attributes varying over time.So, later the data is analyzed for autocorrelation and partial corelation for one of its label which will be useful for further time series analysis.\n",
    "Also trend analysis is an important part of time series data which helps us decrypt the trend,seasonality, residual componets of the data.\n",
    "The seasonal decomposition module presents in statsmodels api of python helps us decompose our time series data into its different components.\n",
    "\n",
    "The derived trend coefficients are below."
   ]
  },
  {
   "cell_type": "code",
   "execution_count": 169,
   "metadata": {
    "collapsed": false
   },
   "outputs": [
    {
     "name": "stdout",
     "output_type": "stream",
     "text": [
      "[-2.47066   1.63831   5.93325   0.230814 -0.632547 -1.76678  -1.36823\n",
      " -3.31725   1.00313   4.33455   1.98482   2.87026  -8.52713   3.72861\n",
      "  0.354191 -0.694847 -0.34965  -4.35294   3.25815  -4.8416   -4.0201\n",
      " -3.72793   3.81731   7.16163 ]\n",
      "[        nan  1.7003      2.60079133  1.843839   -0.72283767 -1.25585233\n",
      " -2.15075333 -1.22745     0.67347667  2.44083333  3.06321    -1.22401667\n",
      " -0.64275333 -1.481443    1.129318   -0.230102   -1.79914567 -0.48148\n",
      " -1.97879667 -1.86785    -4.19654333 -1.31024     2.41700333         nan]\n",
      "[        nan -0.30471432  2.93653744 -0.97437946 -0.15243365 -0.90684889\n",
      "  1.42116887 -2.33252432 -0.06626789  2.53236221 -1.32111432  3.69835544\n",
      " -7.24573113  4.96732868 -1.17104822  0.17390054  1.20677135 -4.26738122\n",
      "  5.87559221 -3.21647432 -0.21947789 -1.77904446  1.15758235         nan]\n",
      "[-0.63864554  0.24272432  0.39592122 -0.63864554  0.24272432  0.39592122\n",
      " -0.63864554  0.24272432  0.39592122 -0.63864554  0.24272432  0.39592122\n",
      " -0.63864554  0.24272432  0.39592122 -0.63864554  0.24272432  0.39592122\n",
      " -0.63864554  0.24272432  0.39592122 -0.63864554  0.24272432  0.39592122]\n"
     ]
    }
   ],
   "source": [
    "trend = res.trend\n",
    "print (my_dow['percent_change_next_weeks_price'].values)\n",
    "print (trend)\n",
    "print(res.resid)\n",
    "print(res.seasonal)"
   ]
  },
  {
   "cell_type": "code",
   "execution_count": 163,
   "metadata": {
    "collapsed": false
   },
   "outputs": [
    {
     "data": {
      "image/png": "[encoded data removed]",
      "text/plain": [
       "<matplotlib.figure.Figure at 0x7f11dffef358>"
      ]
     },
     "metadata": {},
     "output_type": "display_data"
    }
   ],
   "source": [
    "fig = plt.figure(figsize=(12,8))\n",
    "ax1 = fig.add_subplot(211)\n",
    "fig = sm.graphics.tsa.plot_acf(my_dow['percent_change_next_weeks_price'].values.squeeze(), lags=1, ax=ax1)\n",
    "ax2 = fig.add_subplot(212)\n",
    "fig = sm.graphics.tsa.plot_pacf(my_dow['percent_change_next_weeks_price'], lags=1, ax=ax2)"
   ]
  },
  {
   "cell_type": "code",
   "execution_count": 18,
   "metadata": {
    "collapsed": false
   },
   "outputs": [
    {
     "name": "stdout",
     "output_type": "stream",
     "text": [
      "   percent_change_price  percent_change_volume_over_last_wk\n",
      "1             -4.428490                            1.380223\n",
      "2             -2.470660                          -43.024959\n",
      "3              1.638310                            9.355500\n",
      "4              5.933250                            1.987452\n",
      "5              0.230814                          -25.712195\n",
      "     percent_change_price  percent_change_volume_over_last_wk\n",
      "1               -4.428490                            1.380223\n",
      "2               -2.470660                          -43.024959\n",
      "3                1.638310                            9.355500\n",
      "4                5.933250                            1.987452\n",
      "5                0.230814                          -25.712195\n",
      "6               -0.632547                          -30.226696\n",
      "7               -1.766780                           66.177694\n",
      "8               -1.368230                          -17.663150\n",
      "9               -3.317250                            4.419900\n",
      "10               1.003130                           14.030601\n",
      "11               4.334550                          -26.710607\n",
      "360              1.984820                            8.131839\n",
      "361              2.870260                           25.083748\n",
      "362             -8.527130                           64.860721\n",
      "363              3.728610                          -59.994858\n",
      "364              0.354191                            6.565939\n",
      "365             -0.694847                          147.769309\n",
      "366             -0.349650                          -50.398139\n",
      "367             -4.352940                            5.957374\n",
      "368              3.258150                          -34.700711\n",
      "369             -4.841600                           -0.108849\n",
      "370             -4.020100                           23.094985\n",
      "371             -3.727930                           17.165880\n",
      "372              3.817310                          -10.649299\n"
     ]
    }
   ],
   "source": [
    "dow_gr = dow_df.groupby('stock')\n",
    "dow_stock_AA = dow_gr.get_group('AA')\n",
    "dow_stock_AA_data = dow_stock_AA[['percent_change_price', 'percent_change_volume_over_last_wk']]\n",
    "print(dow_stock_AA_data.head())\n",
    "\n",
    "print(dow_stock_AA_data)"
   ]
  },
  {
   "cell_type": "code",
   "execution_count": 4,
   "metadata": {
    "collapsed": false
   },
   "outputs": [],
   "source": [
    "# Convert labels from strings to boolean\n",
    "label_encoder = preprocessing.LabelEncoder()\n",
    "dow_labels = pd.DataFrame(label_encoder.fit_transform(dow_df.iloc[:,-3]))"
   ]
  },
  {
   "cell_type": "code",
   "execution_count": 6,
   "metadata": {
    "collapsed": false
   },
   "outputs": [
    {
     "name": "stdout",
     "output_type": "stream",
     "text": [
      "Index(['quarter', 'stock', 'date', 'open', 'high', 'low', 'close', 'volume',\n",
      "       'percent_change_price', 'percent_change_volume_over_last_wk',\n",
      "       'previous_weeks_volume', 'next_weeks_open', 'next_weeks_close',\n",
      "       'percent_change_next_weeks_price', 'days_to_next_dividend',\n",
      "       'percent_return_next_dividend'],\n",
      "      dtype='object')\n"
     ]
    }
   ],
   "source": [
    "print(dow_df.columns)"
   ]
  },
  {
   "cell_type": "code",
   "execution_count": 7,
   "metadata": {
    "collapsed": false
   },
   "outputs": [],
   "source": [
    "dow_data = dow_df[['open', 'high', 'low', 'close', 'volume', 'days_to_next_dividend']]"
   ]
  },
  {
   "cell_type": "code",
   "execution_count": 8,
   "metadata": {
    "collapsed": false
   },
   "outputs": [],
   "source": [
    "# Convert nominal attributes to encoded versions\n",
    "attr_encoder = feature_extraction.DictVectorizer(sparse=False)\n",
    "dow_data = pd.DataFrame(attr_encoder.fit_transform(dow_data.iloc[:,:].T.to_dict().values()))\n",
    "dow_data.columns = attr_encoder.get_feature_names()"
   ]
  },
  {
   "cell_type": "code",
   "execution_count": 9,
   "metadata": {
    "collapsed": false
   },
   "outputs": [],
   "source": [
    "#normalize \n",
    "dow_data=pd.DataFrame(preprocessing.StandardScaler().fit_transform(dow_data.values))"
   ]
  },
  {
   "cell_type": "code",
   "execution_count": 66,
   "metadata": {
    "collapsed": true
   },
   "outputs": [],
   "source": [
    "km = cluster.KMeans(n_clusters=30, init='random', random_state=20160217)"
   ]
  },
  {
   "cell_type": "code",
   "execution_count": 90,
   "metadata": {
    "collapsed": false
   },
   "outputs": [
    {
     "name": "stdout",
     "output_type": "stream",
     "text": [
      "Index(['quarter', 'stock', 'date', 'open', 'high', 'low', 'close', 'volume',\n",
      "       'percent_change_price', 'percent_change_volume_over_last_wk',\n",
      "       'previous_weeks_volume', 'next_weeks_open', 'next_weeks_close',\n",
      "       'percent_change_next_weeks_price', 'days_to_next_dividend',\n",
      "       'percent_return_next_dividend'],\n",
      "      dtype='object')\n"
     ]
    }
   ],
   "source": [
    "print(dow_df.columns)"
   ]
  },
  {
   "cell_type": "code",
   "execution_count": 67,
   "metadata": {
    "collapsed": false
   },
   "outputs": [],
   "source": [
    "dow_clusterings = km.fit_predict(dow_data)"
   ]
  },
  {
   "cell_type": "code",
   "execution_count": 61,
   "metadata": {
    "collapsed": false
   },
   "outputs": [
    {
     "name": "stdout",
     "output_type": "stream",
     "text": [
      "     quarter  percent_change_next_weeks_price\n",
      "361        2                                0\n",
      "362        2                                1\n",
      "     quarter  percent_change_price  percent_change_volume_over_last_wk  \\\n",
      "361        2               2.87026                           25.083748   \n",
      "362        2              -8.52713                           64.860721   \n",
      "\n",
      "     days_to_next_dividend  percent_return_next_dividend  \n",
      "361                     34                      0.167411  \n",
      "362                     27                      0.181598  \n"
     ]
    }
   ],
   "source": [
    "#dow_AA = dow_df[dow_df['stock']=='AA']\n",
    "dow_gr = dow_df.groupby('stock')\n",
    "dow_AA = dow_gr.get_group('AA')\n",
    "dow_AA_data = dow_AA[['quarter', 'percent_change_price', 'percent_change_volume_over_last_wk', 'days_to_next_dividend', 'percent_return_next_dividend']]\n",
    "dow_AA_target = dow_AA[['quarter', 'percent_change_next_weeks_price']]\n",
    "\n",
    "##dow_AA_data=pd.DataFrame(preprocessing.StandardScaler().fit_transform(dow_AA_data.values))\n",
    "print(dow_AA_target.iloc[12:14,:])\n",
    "print(dow_AA_data.iloc[12:14,:])\n"
   ]
  },
  {
   "cell_type": "code",
   "execution_count": 37,
   "metadata": {
    "collapsed": false
   },
   "outputs": [],
   "source": [
    "from collections import Counter\n",
    "from sklearn.cross_validation import StratifiedKFold\n",
    "\n",
    "def folds_to_split(data,targets,train,test):\n",
    "    data_tr = pd.DataFrame(data).iloc[train]\n",
    "    data_te = pd.DataFrame(data).iloc[test]\n",
    "    labels_tr = pd.DataFrame(targets).iloc[train]\n",
    "    labels_te = pd.DataFrame(targets).iloc[test]\n",
    "    return [data_tr, data_te, labels_tr, labels_te]\n",
    "\n",
    "#mhealth1_10stratified = StratifiedKFold(mhealth1_labels, n_folds=10,random_state=20160121, shuffle=True)\n",
    "#print(\"com\")"
   ]
  },
  {
   "cell_type": "code",
   "execution_count": 38,
   "metadata": {
    "collapsed": true
   },
   "outputs": [],
   "source": [
    "classifier = svm.SVC()"
   ]
  },
  {
   "cell_type": "code",
   "execution_count": 39,
   "metadata": {
    "collapsed": false
   },
   "outputs": [
    {
     "name": "stdout",
     "output_type": "stream",
     "text": [
      "         quarter  percent_change_price  percent_change_volume_over_last_wk  \\\n",
      "count  24.000000             24.000000                           24.000000   \n",
      "mean    1.541667             -0.472698                            4.032988   \n",
      "std     0.508977              3.560926                           43.664644   \n",
      "min     1.000000             -8.527130                          -59.994858   \n",
      "25%     1.000000             -3.419920                          -25.961798   \n",
      "50%     2.000000             -0.491098                            3.203676   \n",
      "75%     2.000000              2.206180                           14.814421   \n",
      "max     2.000000              5.933250                          147.769309   \n",
      "\n",
      "       days_to_next_dividend  percent_return_next_dividend  \n",
      "count              24.000000                     24.000000  \n",
      "mean               49.375000                      0.182140  \n",
      "std                27.787724                      0.008928  \n",
      "min                 5.000000                      0.167411  \n",
      "25%                25.500000                      0.175337  \n",
      "50%                51.000000                      0.181270  \n",
      "75%                70.500000                      0.187325  \n",
      "max                97.000000                      0.203804  \n"
     ]
    }
   ],
   "source": [
    "print(dow_AA_data.describe())"
   ]
  },
  {
   "cell_type": "code",
   "execution_count": 62,
   "metadata": {
    "collapsed": false
   },
   "outputs": [
    {
     "name": "stdout",
     "output_type": "stream",
     "text": [
      "Fold #0 -> Accuracy = 1.000 \t|| Support vector count= [5 6]\n",
      "\n",
      " Total time taken =  0 s\n",
      "   Accuracy\n",
      "0         1\n"
     ]
    },
    {
     "name": "stderr",
     "output_type": "stream",
     "text": [
      "/home/ankit/anaconda3/lib/python3.5/site-packages/sklearn/svm/base.py:514: DataConversionWarning: A column-vector y was passed when a 1d array was expected. Please change the shape of y to (n_samples, ), for example using ravel().\n",
      "  y_ = column_or_1d(y, warn=True)\n"
     ]
    }
   ],
   "source": [
    "import time\n",
    "x=time.time()\n",
    "fold_results = pd.DataFrame()\n",
    "foldnum=0\n",
    "    \n",
    "dow_tr_d = dow_AA_data[dow_AA_data['quarter']==1]\n",
    "dow_tr_l = dow_AA_target[dow_AA_target['quarter']==1]\n",
    "\n",
    "classifier.fit(dow_tr_d.iloc[:,1:], dow_tr_l.iloc[:,1:])\n",
    "\n",
    "dow_te_l = dow_AA_target[dow_AA_target['quarter']==2]\n",
    "dow_te_d = dow_AA_data[dow_AA_data['quarter']==2]\n",
    "acc = classifier.score(dow_te_d.iloc[12:14,1:], dow_te_l.iloc[12:14,1:])\n",
    "\n",
    "print (\"Fold #%d -> Accuracy = %03.3f \\t|| Support vector count= %s\" % (foldnum, acc, classifier.n_support_))\n",
    "\n",
    "fold_results.loc[foldnum, 'Accuracy'] = acc\n",
    "\n",
    "print(\"\\n Total time taken = \", int(time.time() - x), 's')\n",
    "print(fold_results)"
   ]
  },
  {
   "cell_type": "code",
   "execution_count": 65,
   "metadata": {
    "collapsed": false
   },
   "outputs": [
    {
     "name": "stdout",
     "output_type": "stream",
     "text": [
      "Fold 0\t\t R^2 metric = -3.863 \t\t MSE = 1.1 \n",
      "        R^2      MSE\n",
      "0 -3.863339  1.10432\n",
      "R^2   -3.863339\n",
      "MSE    1.104320\n",
      "dtype: float64\n"
     ]
    }
   ],
   "source": [
    "foldnum = 0\n",
    "fold_results = pd.DataFrame()\n",
    "dow_tr_d = dow_AA_data[dow_AA_data['quarter']==1]\n",
    "dow_tr_l = dow_AA_target[dow_AA_target['quarter']==1]\n",
    "dow_te_l = dow_AA_target[dow_AA_target['quarter']==2]\n",
    "dow_te_d = dow_AA_data[dow_AA_data['quarter']==2]\n",
    "\n",
    "lr = linear_model.LinearRegression()\n",
    "lr.fit(dow_tr_d, dow_tr_l)\n",
    "# We could print out our results\n",
    "print (\"Fold %d\\t\\t R^2 metric = %03.3f \\t\\t MSE = %03.1f \" % (foldnum,  \n",
    "                                                              lr.score(dow_te_d,dow_te_l), \n",
    "                                                              metrics.mean_squared_error(dow_te_l, \n",
    "                                                                                         lr.predict(dow_te_d))\n",
    "                                                             ))\n",
    "# But a nicer way to store them is in a DataFrame\n",
    "fold_results.loc[foldnum, 'R^2'] = lr.score(dow_te_d, dow_te_l)\n",
    "fold_results.loc[foldnum, 'MSE'] = metrics.mean_squared_error(dow_te_l, lr.predict(dow_te_d))\n",
    "\n",
    "    \n",
    "#Now let's look at the results:\n",
    "print (fold_results)\n",
    "#And compute the mean error across folds:\n",
    "print (fold_results.mean())"
   ]
  }
 ],
 "metadata": {
  "kernelspec": {
   "display_name": "Python 2",
   "language": "python",
   "name": "python2"
  },
  "language_info": {
   "codemirror_mode": {
    "name": "ipython",
    "version": 2
   },
   "file_extension": ".py",
   "mimetype": "text/x-python",
   "name": "python",
   "nbconvert_exporter": "python",
   "pygments_lexer": "ipython2",
   "version": "2.7.11"
  }
 },
 "nbformat": 4,
 "nbformat_minor": 0
}
